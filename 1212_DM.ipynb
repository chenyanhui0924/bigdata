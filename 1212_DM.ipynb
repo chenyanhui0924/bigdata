{
  "nbformat": 4,
  "nbformat_minor": 0,
  "metadata": {
    "colab": {
      "name": "1212 DM.ipynb ",
      "provenance": [],
      "collapsed_sections": [],
      "include_colab_link": true
    },
    "kernelspec": {
      "name": "ir",
      "display_name": "R"
    }
  },
  "cells": [
    {
      "cell_type": "markdown",
      "metadata": {
        "id": "view-in-github",
        "colab_type": "text"
      },
      "source": [
        "<a href=\"https://colab.research.google.com/github/chenyanhui0924/bigdata/blob/master/1212_DM.ipynb\" target=\"_parent\"><img src=\"https://colab.research.google.com/assets/colab-badge.svg\" alt=\"Open In Colab\"/></a>"
      ]
    },
    {
      "cell_type": "code",
      "metadata": {
        "id": "_1aeQElQWkTJ",
        "colab": {
          "base_uri": "https://localhost:8080/",
          "height": 34
        },
        "outputId": "7d260281-90ba-4c1f-dd7f-f5c9c9f0b24d"
      },
      "source": [
        "class(2)"
      ],
      "execution_count": null,
      "outputs": [
        {
          "output_type": "display_data",
          "data": {
            "text/plain": [
              "[1] \"numeric\""
            ],
            "text/latex": "'numeric'",
            "text/markdown": "'numeric'",
            "text/html": [
              "'numeric'"
            ]
          },
          "metadata": {
            "tags": []
          }
        }
      ]
    },
    {
      "cell_type": "code",
      "metadata": {
        "id": "Px5a3B1fXMOr",
        "colab": {
          "base_uri": "https://localhost:8080/",
          "height": 34
        },
        "outputId": "134c6fc3-f1d2-43bf-ec4b-1b2f095a0605"
      },
      "source": [
        "class('hi')"
      ],
      "execution_count": null,
      "outputs": [
        {
          "output_type": "display_data",
          "data": {
            "text/plain": [
              "[1] \"character\""
            ],
            "text/latex": "'character'",
            "text/markdown": "'character'",
            "text/html": [
              "'character'"
            ]
          },
          "metadata": {
            "tags": []
          }
        }
      ]
    },
    {
      "cell_type": "code",
      "metadata": {
        "id": "-uct5jQDXfMQ",
        "colab": {
          "base_uri": "https://localhost:8080/",
          "height": 34
        },
        "outputId": "c2d4c31e-74dd-4514-920d-e803641b3f03"
      },
      "source": [
        "7442+6514\n"
      ],
      "execution_count": null,
      "outputs": [
        {
          "output_type": "display_data",
          "data": {
            "text/plain": [
              "[1] 13956"
            ],
            "text/latex": "13956",
            "text/markdown": "13956",
            "text/html": [
              "13956"
            ]
          },
          "metadata": {
            "tags": []
          }
        }
      ]
    },
    {
      "cell_type": "code",
      "metadata": {
        "id": "UZe0HsWuYToh"
      },
      "source": [
        "my_H <- 166"
      ],
      "execution_count": null,
      "outputs": []
    },
    {
      "cell_type": "code",
      "metadata": {
        "id": "j2YK_PbzY6I7"
      },
      "source": [
        "my_w <-49"
      ],
      "execution_count": null,
      "outputs": []
    },
    {
      "cell_type": "code",
      "metadata": {
        "id": "mBHCs0NuZLFy",
        "colab": {
          "base_uri": "https://localhost:8080/",
          "height": 34
        },
        "outputId": "29d4ae49-166b-4112-9984-979c0c309250"
      },
      "source": [
        "my_H"
      ],
      "execution_count": null,
      "outputs": [
        {
          "output_type": "display_data",
          "data": {
            "text/plain": [
              "[1] 166"
            ],
            "text/latex": "166",
            "text/markdown": "166",
            "text/html": [
              "166"
            ]
          },
          "metadata": {
            "tags": []
          }
        }
      ]
    },
    {
      "cell_type": "code",
      "metadata": {
        "id": "j28c1ZlaZToB"
      },
      "source": [
        "first_name <- 'yanhui'"
      ],
      "execution_count": null,
      "outputs": []
    },
    {
      "cell_type": "code",
      "metadata": {
        "id": "tNfdQUWXZcsg",
        "colab": {
          "base_uri": "https://localhost:8080/",
          "height": 34
        },
        "outputId": "12cec284-1b31-49b0-c547-7145f277970f"
      },
      "source": [
        "first_name"
      ],
      "execution_count": null,
      "outputs": [
        {
          "output_type": "display_data",
          "data": {
            "text/plain": [
              "[1] \"yanhui\""
            ],
            "text/latex": "'yanhui'",
            "text/markdown": "'yanhui'",
            "text/html": [
              "'yanhui'"
            ]
          },
          "metadata": {
            "tags": []
          }
        }
      ]
    },
    {
      "cell_type": "code",
      "metadata": {
        "id": "oWHKdSp_cQbm"
      },
      "source": [
        "BMI <- 'my_w / my_H "
      ],
      "execution_count": null,
      "outputs": []
    },
    {
      "cell_type": "code",
      "metadata": {
        "id": "2XuBbe81cge6",
        "colab": {
          "base_uri": "https://localhost:8080/",
          "height": 34
        },
        "outputId": "cc50d600-deef-40cc-8b43-34bf80c0fb95"
      },
      "source": [
        "BMI"
      ],
      "execution_count": null,
      "outputs": [
        {
          "output_type": "display_data",
          "data": {
            "text/plain": [
              "[1] 49"
            ],
            "text/latex": "49",
            "text/markdown": "49",
            "text/html": [
              "49"
            ]
          },
          "metadata": {
            "tags": []
          }
        }
      ]
    },
    {
      "cell_type": "code",
      "metadata": {
        "id": "e2SHFmw1bQk2",
        "colab": {
          "base_uri": "https://localhost:8080/",
          "height": 34
        },
        "outputId": "e636127c-3edf-4b62-b3ae-98c2c663b2e7"
      },
      "source": [
        "paste0('我是',first_name , '我的身高',my_H , '體重',my_w)"
      ],
      "execution_count": null,
      "outputs": [
        {
          "output_type": "display_data",
          "data": {
            "text/plain": [
              "[1] \"我是yanhui我的身高166體重49\""
            ],
            "text/latex": "'我是yanhui我的身高166體重49'",
            "text/markdown": "'我是yanhui我的身高166體重49'",
            "text/html": [
              "'我是yanhui我的身高166體重49'"
            ]
          },
          "metadata": {
            "tags": []
          }
        }
      ]
    }
  ]
}