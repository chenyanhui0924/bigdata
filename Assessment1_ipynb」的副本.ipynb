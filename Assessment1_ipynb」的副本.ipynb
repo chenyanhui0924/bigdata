{
  "nbformat": 4,
  "nbformat_minor": 0,
  "metadata": {
    "colab": {
      "name": "Assessment1.ipynb」的副本",
      "provenance": [],
      "collapsed_sections": [],
      "include_colab_link": true
    },
    "kernelspec": {
      "name": "ir",
      "display_name": "R"
    }
  },
  "cells": [
    {
      "cell_type": "markdown",
      "metadata": {
        "id": "view-in-github",
        "colab_type": "text"
      },
      "source": [
        "<a href=\"https://colab.research.google.com/github/chenyanhui0924/bigdata/blob/master/Assessment1_ipynb%E3%80%8D%E7%9A%84%E5%89%AF%E6%9C%AC.ipynb\" target=\"_parent\"><img src=\"https://colab.research.google.com/assets/colab-badge.svg\" alt=\"Open In Colab\"/></a>"
      ]
    },
    {
      "cell_type": "code",
      "metadata": {
        "id": "_1aeQElQWkTJ",
        "colab_type": "code",
        "colab": {
          "base_uri": "https://localhost:8080/",
          "height": 34
        },
        "outputId": "7d260281-90ba-4c1f-dd7f-f5c9c9f0b24d"
      },
      "source": [
        "class(2)"
      ],
      "execution_count": null,
      "outputs": [
        {
          "output_type": "display_data",
          "data": {
            "text/plain": [
              "[1] \"numeric\""
            ],
            "text/latex": "'numeric'",
            "text/markdown": "'numeric'",
            "text/html": [
              "'numeric'"
            ]
          },
          "metadata": {
            "tags": []
          }
        }
      ]
    },
    {
      "cell_type": "code",
      "metadata": {
        "id": "Px5a3B1fXMOr",
        "colab_type": "code",
        "colab": {
          "base_uri": "https://localhost:8080/",
          "height": 34
        },
        "outputId": "134c6fc3-f1d2-43bf-ec4b-1b2f095a0605"
      },
      "source": [
        "class('hi')"
      ],
      "execution_count": null,
      "outputs": [
        {
          "output_type": "display_data",
          "data": {
            "text/plain": [
              "[1] \"character\""
            ],
            "text/latex": "'character'",
            "text/markdown": "'character'",
            "text/html": [
              "'character'"
            ]
          },
          "metadata": {
            "tags": []
          }
        }
      ]
    },
    {
      "cell_type": "code",
      "metadata": {
        "id": "-uct5jQDXfMQ",
        "colab_type": "code",
        "colab": {
          "base_uri": "https://localhost:8080/",
          "height": 34
        },
        "outputId": "c2d4c31e-74dd-4514-920d-e803641b3f03"
      },
      "source": [
        "7442+6514\n"
      ],
      "execution_count": null,
      "outputs": [
        {
          "output_type": "display_data",
          "data": {
            "text/plain": [
              "[1] 13956"
            ],
            "text/latex": "13956",
            "text/markdown": "13956",
            "text/html": [
              "13956"
            ]
          },
          "metadata": {
            "tags": []
          }
        }
      ]
    },
    {
      "cell_type": "code",
      "metadata": {
        "id": "UZe0HsWuYToh",
        "colab_type": "code",
        "colab": {}
      },
      "source": [
        "my_H <- 166"
      ],
      "execution_count": null,
      "outputs": []
    },
    {
      "cell_type": "code",
      "metadata": {
        "id": "j2YK_PbzY6I7",
        "colab_type": "code",
        "colab": {}
      },
      "source": [
        "my_w <-49"
      ],
      "execution_count": null,
      "outputs": []
    },
    {
      "cell_type": "code",
      "metadata": {
        "id": "mBHCs0NuZLFy",
        "colab_type": "code",
        "colab": {
          "base_uri": "https://localhost:8080/",
          "height": 34
        },
        "outputId": "29d4ae49-166b-4112-9984-979c0c309250"
      },
      "source": [
        "my_H"
      ],
      "execution_count": null,
      "outputs": [
        {
          "output_type": "display_data",
          "data": {
            "text/plain": [
              "[1] 166"
            ],
            "text/latex": "166",
            "text/markdown": "166",
            "text/html": [
              "166"
            ]
          },
          "metadata": {
            "tags": []
          }
        }
      ]
    },
    {
      "cell_type": "code",
      "metadata": {
        "id": "j28c1ZlaZToB",
        "colab_type": "code",
        "colab": {}
      },
      "source": [
        "first_name <- 'yanhui'"
      ],
      "execution_count": null,
      "outputs": []
    },
    {
      "cell_type": "code",
      "metadata": {
        "id": "tNfdQUWXZcsg",
        "colab_type": "code",
        "colab": {
          "base_uri": "https://localhost:8080/",
          "height": 34
        },
        "outputId": "12cec284-1b31-49b0-c547-7145f277970f"
      },
      "source": [
        "first_name"
      ],
      "execution_count": null,
      "outputs": [
        {
          "output_type": "display_data",
          "data": {
            "text/plain": [
              "[1] \"yanhui\""
            ],
            "text/latex": "'yanhui'",
            "text/markdown": "'yanhui'",
            "text/html": [
              "'yanhui'"
            ]
          },
          "metadata": {
            "tags": []
          }
        }
      ]
    },
    {
      "cell_type": "code",
      "metadata": {
        "id": "oWHKdSp_cQbm",
        "colab_type": "code",
        "colab": {
          "base_uri": "https://localhost:8080/",
          "height": 34
        },
        "outputId": "5de85e2d-d578-48f4-d2cc-36d77c7233fc"
      },
      "source": [
        " my_w / (my_H/100)^2"
      ],
      "execution_count": null,
      "outputs": [
        {
          "output_type": "display_data",
          "data": {
            "text/plain": [
              "[1] 17.78197"
            ],
            "text/latex": "17.7819712585281",
            "text/markdown": "17.7819712585281",
            "text/html": [
              "17.7819712585281"
            ]
          },
          "metadata": {
            "tags": []
          }
        }
      ]
    },
    {
      "cell_type": "code",
      "metadata": {
        "id": "e2SHFmw1bQk2",
        "colab_type": "code",
        "colab": {
          "base_uri": "https://localhost:8080/",
          "height": 34
        },
        "outputId": "865e985c-3be0-4548-9be3-c496c140a606"
      },
      "source": [
        "paste0('我是',first_name , '我的身高',my_H , '體重',my_w , 'BMI',my_w/(my_H/100)^2)"
      ],
      "execution_count": null,
      "outputs": [
        {
          "output_type": "display_data",
          "data": {
            "text/plain": [
              "[1] \"我是yanhui我的身高166體重49BMI17.7819712585281\""
            ],
            "text/latex": "'我是yanhui我的身高166體重49BMI17.7819712585281'",
            "text/markdown": "'我是yanhui我的身高166體重49BMI17.7819712585281'",
            "text/html": [
              "'我是yanhui我的身高166體重49BMI17.7819712585281'"
            ]
          },
          "metadata": {
            "tags": []
          }
        }
      ]
    }
  ]
}